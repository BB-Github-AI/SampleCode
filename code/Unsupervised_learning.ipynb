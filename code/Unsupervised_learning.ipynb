{
 "cells": [
  {
   "cell_type": "markdown",
   "metadata": {},
   "source": [
    "<center>\n",
    "<img src=\"../../img/ods_stickers.jpg\">\n",
    "## Open Data Science course. Session № 2\n",
    "</center>\n",
    "Authors: Olga Daikhovskaya, Yury Kashnitsky. The material is distributed under [Creative Commons CC BY-NC-SA 4.0](https://creativecommons.org/licenses/by-nc-sa/4.0/). You are free to use the material for any non-commercial purposes, mentioning the original authors is mandatory."
   ]
  },
  {
   "cell_type": "markdown",
   "metadata": {},
   "source": [
    "# <center>Homework № 7.\n",
    "## <center> Unupervised learning"
   ]
  },
  {
   "cell_type": "markdown",
   "metadata": {},
   "source": [
    "In this task, we will look at how data dimensionality reduction and clustering methods work. At the same time, we'll practice solving classification task again.\n",
    "\n",
    "We will work with the [Samsung Human Activity Recognition] (https://archive.ics.uci.edu/ml/datasets/Human+Activity+Recognition+Using+Smartphones) dataset. Download the data from there. The data comes from the accelerometers and gyros of Samsung Galaxy S3 mobile phones ( you can find more info about the features using on the link above), the type of activity of a person with a phone in his pocket is also known - whether he walked, stood, lay, sat or walked up or down the stairs.\n",
    "\n",
    "First we imagine that the type of activity is unknown to us, and we will try to cluster people purely on the basis of available features. Then we solve the problem of determining the type of physical activity precisely as a classification problem.\n"
   ]
  },
  {
   "cell_type": "code",
   "execution_count": 2,
   "metadata": {},
   "outputs": [],
   "source": [
    "import numpy as np\n",
    "import pandas as pd\n",
    "import seaborn as sns\n",
    "from tqdm import tqdm_notebook\n",
    "\n",
    "%matplotlib inline\n",
    "from matplotlib import pyplot as plt\n",
    "plt.style.use(['seaborn-darkgrid'])\n",
    "plt.rcParams['figure.figsize'] = (12, 9)\n",
    "plt.rcParams['font.family'] = 'DejaVu Sans'\n",
    "\n",
    "from sklearn import metrics\n",
    "from sklearn.cluster import KMeans, AgglomerativeClustering, SpectralClustering\n",
    "from sklearn.decomposition import PCA\n",
    "from sklearn.model_selection import GridSearchCV\n",
    "from sklearn.preprocessing import StandardScaler\n",
    "from sklearn.svm import LinearSVC\n",
    "\n",
    "\n",
    "# BB added this option\n",
    "from sklearn.metrics.cluster import adjusted_rand_score\n",
    "\n",
    "from IPython.core.interactiveshell import InteractiveShell\n",
    "InteractiveShell.ast_node_interactivity = \"all\"\n",
    "\n",
    "RANDOM_STATE = 17"
   ]
  },
  {
   "cell_type": "code",
   "execution_count": 3,
   "metadata": {},
   "outputs": [],
   "source": [
    "X_train = np.loadtxt(\"HAPT Data Set/Train/X_train.txt\")\n",
    "y_train = np.loadtxt(\"HAPT Data Set/Train/y_train.txt\").astype(int)\n",
    "\n",
    "X_test = np.loadtxt(\"HAPT Data Set/Test/X_test.txt\")\n",
    "y_test = np.loadtxt(\"HAPT Data Set/Test/y_test.txt\").astype(int)"
   ]
  },
  {
   "cell_type": "code",
   "execution_count": 4,
   "metadata": {},
   "outputs": [
    {
     "name": "stdout",
     "output_type": "stream",
     "text": [
      "X_train contains: \n"
     ]
    },
    {
     "data": {
      "text/plain": [
       "array([[ 0.04357967, -0.00597022, -0.03505434, ..., -0.84155851,\n",
       "         0.17991281, -0.05171842],\n",
       "       [ 0.03948004, -0.00213128, -0.02906736, ..., -0.8450924 ,\n",
       "         0.18026111, -0.04743634],\n",
       "       [ 0.03997778, -0.00515272, -0.02265071, ..., -0.84923013,\n",
       "         0.18060956, -0.04227136],\n",
       "       ...,\n",
       "       [ 0.03745094, -0.00272442,  0.02100941, ..., -0.77956634,\n",
       "         0.24912145,  0.04707077],\n",
       "       [ 0.04401105, -0.00453578, -0.0512422 , ..., -0.78560327,\n",
       "         0.24640867,  0.03170003],\n",
       "       [ 0.06895376,  0.00181032, -0.08032343, ..., -0.78369253,\n",
       "         0.24678499,  0.04298129]])"
      ]
     },
     "execution_count": 4,
     "metadata": {},
     "output_type": "execute_result"
    },
    {
     "data": {
      "text/plain": [
       "(7767, 561)"
      ]
     },
     "execution_count": 4,
     "metadata": {},
     "output_type": "execute_result"
    },
    {
     "name": "stdout",
     "output_type": "stream",
     "text": [
      "y_train contains: \n"
     ]
    },
    {
     "data": {
      "text/plain": [
       "array([5, 5, 5, ..., 2, 2, 2])"
      ]
     },
     "execution_count": 4,
     "metadata": {},
     "output_type": "execute_result"
    },
    {
     "data": {
      "text/plain": [
       "(7767,)"
      ]
     },
     "execution_count": 4,
     "metadata": {},
     "output_type": "execute_result"
    },
    {
     "name": "stdout",
     "output_type": "stream",
     "text": [
      "X_test contains: \n"
     ]
    },
    {
     "data": {
      "text/plain": [
       "array([[ 0.0309139 , -0.00892689,  0.04038223, ..., -0.7205591 ,\n",
       "         0.27677941, -0.05107403],\n",
       "       [ 0.04254816,  0.00107859, -0.02623642, ..., -0.6986837 ,\n",
       "         0.28132158, -0.07682459],\n",
       "       [ 0.0382968 , -0.01166028, -0.0256426 , ..., -0.70335515,\n",
       "         0.28006162, -0.07230248],\n",
       "       ...,\n",
       "       [ 0.06833377,  0.04382217, -0.02413471, ..., -0.65603364,\n",
       "         0.27445701,  0.18652707],\n",
       "       [ 0.02301605,  0.03234511, -0.01182959, ..., -0.66038682,\n",
       "         0.26475922,  0.1928648 ],\n",
       "       [-0.0108462 , -0.00413392, -0.03767837, ..., -0.66074775,\n",
       "         0.26391374,  0.19340177]])"
      ]
     },
     "execution_count": 4,
     "metadata": {},
     "output_type": "execute_result"
    },
    {
     "data": {
      "text/plain": [
       "(3162, 561)"
      ]
     },
     "execution_count": 4,
     "metadata": {},
     "output_type": "execute_result"
    },
    {
     "name": "stdout",
     "output_type": "stream",
     "text": [
      "y_test contains: \n"
     ]
    },
    {
     "data": {
      "text/plain": [
       "array([5, 5, 5, ..., 2, 2, 2])"
      ]
     },
     "execution_count": 4,
     "metadata": {},
     "output_type": "execute_result"
    },
    {
     "data": {
      "text/plain": [
       "(3162,)"
      ]
     },
     "execution_count": 4,
     "metadata": {},
     "output_type": "execute_result"
    }
   ],
   "source": [
    "# Checking the data\n",
    "print(\"X_train contains: \")\n",
    "X_train\n",
    "X_train.shape\n",
    "\n",
    "print(\"y_train contains: \")\n",
    "y_train\n",
    "y_train.shape\n",
    "\n",
    "print(\"X_test contains: \")\n",
    "X_test\n",
    "X_test.shape\n",
    "\n",
    "print(\"y_test contains: \")\n",
    "y_test\n",
    "y_test.shape"
   ]
  },
  {
   "cell_type": "markdown",
   "metadata": {},
   "source": [
    "For clustering, we do not need a target vector, so we'll work with the combination of training and test samples. Merge * X_train * with * X_test *, and * y_train * with * y_test *."
   ]
  },
  {
   "cell_type": "code",
   "execution_count": 5,
   "metadata": {
    "jupyter": {
     "outputs_hidden": true
    }
   },
   "outputs": [
    {
     "name": "stdout",
     "output_type": "stream",
     "text": [
      "The resulting X is\n"
     ]
    },
    {
     "data": {
      "text/plain": [
       "array([[ 0.04357967, -0.00597022, -0.03505434, ..., -0.84155851,\n",
       "         0.17991281, -0.05171842],\n",
       "       [ 0.03948004, -0.00213128, -0.02906736, ..., -0.8450924 ,\n",
       "         0.18026111, -0.04743634],\n",
       "       [ 0.03997778, -0.00515272, -0.02265071, ..., -0.84923013,\n",
       "         0.18060956, -0.04227136],\n",
       "       ...,\n",
       "       [ 0.06833377,  0.04382217, -0.02413471, ..., -0.65603364,\n",
       "         0.27445701,  0.18652707],\n",
       "       [ 0.02301605,  0.03234511, -0.01182959, ..., -0.66038682,\n",
       "         0.26475922,  0.1928648 ],\n",
       "       [-0.0108462 , -0.00413392, -0.03767837, ..., -0.66074775,\n",
       "         0.26391374,  0.19340177]])"
      ]
     },
     "execution_count": 5,
     "metadata": {},
     "output_type": "execute_result"
    },
    {
     "data": {
      "text/plain": [
       "(10929, 561)"
      ]
     },
     "execution_count": 5,
     "metadata": {},
     "output_type": "execute_result"
    },
    {
     "name": "stdout",
     "output_type": "stream",
     "text": [
      "The resulting y is\n"
     ]
    },
    {
     "data": {
      "text/plain": [
       "array([5, 5, 5, ..., 2, 2, 2])"
      ]
     },
     "execution_count": 5,
     "metadata": {},
     "output_type": "execute_result"
    },
    {
     "data": {
      "text/plain": [
       "(10929,)"
      ]
     },
     "execution_count": 5,
     "metadata": {},
     "output_type": "execute_result"
    }
   ],
   "source": [
    "# Appending X test to X train\n",
    "X=np.vstack([X_train,X_test])\n",
    "print(\"The resulting X is\")\n",
    "X\n",
    "X.shape\n",
    "\n",
    "# Appending y test to y train\n",
    "y=np.hstack([y_train,y_test])\n",
    "print(\"The resulting y is\")\n",
    "y\n",
    "y.shape"
   ]
  },
  {
   "cell_type": "markdown",
   "metadata": {},
   "source": [
    "Define the number of unique values of the labels of the target class."
   ]
  },
  {
   "cell_type": "code",
   "execution_count": 4,
   "metadata": {},
   "outputs": [
    {
     "data": {
      "text/plain": [
       "array([ 1,  2,  3,  4,  5,  6,  7,  8,  9, 10, 11, 12])"
      ]
     },
     "execution_count": 4,
     "metadata": {},
     "output_type": "execute_result"
    }
   ],
   "source": [
    "np.unique(y)"
   ]
  },
  {
   "cell_type": "code",
   "execution_count": 15,
   "metadata": {
    "jupyter": {
     "outputs_hidden": true,
     "source_hidden": true
    }
   },
   "outputs": [
    {
     "data": {
      "text/plain": [
       "12"
      ]
     },
     "execution_count": 15,
     "metadata": {},
     "output_type": "execute_result"
    }
   ],
   "source": [
    "n_classes = np.unique(y).size\n",
    "n_classes"
   ]
  },
  {
   "cell_type": "markdown",
   "metadata": {},
   "source": [
    "[These labels correspond to:](https://archive.ics.uci.edu/ml/machine-learning-databases/00240/UCI%20HAR%20Dataset.names)\n",
    "- 1 WALKING           \n",
    "- 2 WALKING_UPSTAIRS  \n",
    "- 3 WALKING_DOWNSTAIRS\n",
    "- 4 SITTING           \n",
    "- 5 STANDING          \n",
    "- 6 LAYING            \n",
    "- 7 STAND_TO_SIT      \n",
    "- 8 SIT_TO_STAND      \n",
    "- 9 SIT_TO_LIE        \n",
    "- 10 LIE_TO_SIT        \n",
    "- 11 STAND_TO_LIE      \n",
    "- 12 LIE_TO_STAND  "
   ]
  },
  {
   "cell_type": "markdown",
   "metadata": {},
   "source": [
    "Scale the sample using `StandardScaler` with default parameters."
   ]
  },
  {
   "cell_type": "code",
   "execution_count": 7,
   "metadata": {
    "jupyter": {
     "outputs_hidden": true
    }
   },
   "outputs": [
    {
     "data": {
      "text/plain": [
       "array([[ 0.04229753, -0.04987031, -0.18730766, ..., -0.68490752,\n",
       "         0.40378404, -0.00350964],\n",
       "       [ 0.0020512 , -0.01173583, -0.1194426 , ..., -0.69185739,\n",
       "         0.4049132 ,  0.01258021],\n",
       "       [ 0.00693757, -0.04174955, -0.04670704, ..., -0.6999948 ,\n",
       "         0.40604285,  0.03198754],\n",
       "       ...,\n",
       "       [ 0.28530967,  0.44474641, -0.06352887, ..., -0.32004781,\n",
       "         0.71029105,  0.89169481],\n",
       "       [-0.1595766 ,  0.33073808,  0.07595511, ..., -0.32860893,\n",
       "         0.67885137,  0.91550876],\n",
       "       [-0.49200392, -0.03162923, -0.21705211, ..., -0.32931876,\n",
       "         0.67611038,  0.9175264 ]])"
      ]
     },
     "execution_count": 7,
     "metadata": {},
     "output_type": "execute_result"
    }
   ],
   "source": [
    "# Scaling\n",
    "scaler = StandardScaler()\n",
    "\n",
    "# Fit to data, then transform it.\n",
    "X_scaled = scaler.fit_transform(X)\n",
    "X_scaled\n"
   ]
  },
  {
   "cell_type": "markdown",
   "metadata": {},
   "source": [
    "Reduce the number of dimensions using PCA, leaving as many components as necessary to explain at least 90% of the variance of the original (scaled) data. Use the scaled sample and fix the random_state (RANDOM_STATE constant)."
   ]
  },
  {
   "cell_type": "code",
   "execution_count": 8,
   "metadata": {
    "jupyter": {
     "outputs_hidden": true
    }
   },
   "outputs": [],
   "source": [
    "# If 0 < n_components < 1 and svd_solver == 'full', select the number of components such that the amount of variance that\n",
    "# needs to be explained is greater than the percentage specified by n_components.\n",
    "\n",
    "#pca = PCA(n_components=0.9, svd_solver='full' random_state=RANDOM_STATE).fit(X_scaled)\n",
    "# It is mentioned that: The solver is selected by a default policy based on X.shape and n_components\n",
    "# Hence, perhaps the below simpler version would be fine\n",
    "\n",
    "pca = PCA(n_components=0.9, random_state=RANDOM_STATE).fit(X_scaled)\n",
    "X_pca = pca.transform(X_scaled)"
   ]
  },
  {
   "cell_type": "markdown",
   "metadata": {},
   "source": [
    "** Question 1: ** <br>\n",
    "What is the minimum number of main components required to cover the 90% of the variance of the original (scaled) data?"
   ]
  },
  {
   "cell_type": "code",
   "execution_count": 9,
   "metadata": {},
   "outputs": [
    {
     "name": "stdout",
     "output_type": "stream",
     "text": [
      "(66, 561)\n",
      "(10929, 66)\n",
      "The minimum number of main components to cover 90% of variance of data is 66\n"
     ]
    }
   ],
   "source": [
    "# Principal axes in feature space, representing the directions of maximum variance in the data.\n",
    "print(pca.components_.shape)\n",
    "\n",
    "print(X_pca.shape)\n",
    "\n",
    "print(\"The minimum number of main components to cover 90% of variance of data is\", X_pca.shape[1])"
   ]
  },
  {
   "cell_type": "markdown",
   "metadata": {},
   "source": [
    "**Answer options:**\n",
    "- 56 \n",
    "- 65\n",
    "- 66\n",
    "- 193"
   ]
  },
  {
   "cell_type": "markdown",
   "metadata": {},
   "source": [
    "**Вопрос 2:**<br>\n",
    "What percentage of the variance is covered by the first main component? Round to the nearest percent.\n",
    "\n",
    "**Answer options:**\n",
    "- 45\n",
    "- 51\n",
    "- 56\n",
    "- 61"
   ]
  },
  {
   "cell_type": "code",
   "execution_count": 10,
   "metadata": {},
   "outputs": [
    {
     "data": {
      "text/plain": [
       "48.0"
      ]
     },
     "execution_count": 10,
     "metadata": {},
     "output_type": "execute_result"
    },
    {
     "name": "stdout",
     "output_type": "stream",
     "text": [
      "The exact answer is not among the given choices, but 45 and 51 seem closer.\n"
     ]
    }
   ],
   "source": [
    "# Percentage of variance explained by first of the selected components.\n",
    "#pca.explained_variance_ratio_[0]\n",
    "\n",
    "round(pca.explained_variance_ratio_[0]*100)\n",
    "print(\"The exact answer is not among the given choices, but 45 and 51 seem closer.\")"
   ]
  },
  {
   "cell_type": "markdown",
   "metadata": {},
   "source": [
    "Visualize the data in the projection on the first two main components."
   ]
  },
  {
   "cell_type": "code",
   "execution_count": 11,
   "metadata": {},
   "outputs": [
    {
     "data": {
      "image/png": "[encoded data removed]",
      "text/plain": [
       "<Figure size 720x432 with 1 Axes>"
      ]
     },
     "metadata": {},
     "output_type": "display_data"
    }
   ],
   "source": [
    "# Showing data from first two columns of X_pca\n",
    "plt.figure(figsize=(10,6))\n",
    "\n",
    "plt.scatter(X_pca[:, 0] , X_pca[:, 1] , c=y, s=20, cmap='viridis');"
   ]
  },
  {
   "cell_type": "code",
   "execution_count": 12,
   "metadata": {},
   "outputs": [
    {
     "data": {
      "text/plain": [
       "<matplotlib.collections.PathCollection at 0x1ce7b8f2b08>"
      ]
     },
     "execution_count": 12,
     "metadata": {},
     "output_type": "execute_result"
    },
    {
     "data": {
      "text/plain": [
       "<matplotlib.collections.PathCollection at 0x1ce7b901508>"
      ]
     },
     "execution_count": 12,
     "metadata": {},
     "output_type": "execute_result"
    },
    {
     "data": {
      "text/plain": [
       "<matplotlib.collections.PathCollection at 0x1ce7b901d08>"
      ]
     },
     "execution_count": 12,
     "metadata": {},
     "output_type": "execute_result"
    },
    {
     "data": {
      "text/plain": [
       "<matplotlib.collections.PathCollection at 0x1ce7b901f48>"
      ]
     },
     "execution_count": 12,
     "metadata": {},
     "output_type": "execute_result"
    },
    {
     "data": {
      "text/plain": [
       "<matplotlib.collections.PathCollection at 0x1ce7b903608>"
      ]
     },
     "execution_count": 12,
     "metadata": {},
     "output_type": "execute_result"
    },
    {
     "data": {
      "text/plain": [
       "<matplotlib.collections.PathCollection at 0x1ce7b903d88>"
      ]
     },
     "execution_count": 12,
     "metadata": {},
     "output_type": "execute_result"
    },
    {
     "data": {
      "text/plain": [
       "<matplotlib.collections.PathCollection at 0x1ce7b905688>"
      ]
     },
     "execution_count": 12,
     "metadata": {},
     "output_type": "execute_result"
    },
    {
     "data": {
      "text/plain": [
       "<matplotlib.collections.PathCollection at 0x1ce7b905888>"
      ]
     },
     "execution_count": 12,
     "metadata": {},
     "output_type": "execute_result"
    },
    {
     "data": {
      "text/plain": [
       "<matplotlib.collections.PathCollection at 0x1ce7b911048>"
      ]
     },
     "execution_count": 12,
     "metadata": {},
     "output_type": "execute_result"
    },
    {
     "data": {
      "text/plain": [
       "<matplotlib.collections.PathCollection at 0x1ce7b911948>"
      ]
     },
     "execution_count": 12,
     "metadata": {},
     "output_type": "execute_result"
    },
    {
     "data": {
      "text/plain": [
       "<matplotlib.collections.PathCollection at 0x1ce7b911888>"
      ]
     },
     "execution_count": 12,
     "metadata": {},
     "output_type": "execute_result"
    },
    {
     "data": {
      "text/plain": [
       "<matplotlib.collections.PathCollection at 0x1ce7b911408>"
      ]
     },
     "execution_count": 12,
     "metadata": {},
     "output_type": "execute_result"
    },
    {
     "data": {
      "text/plain": [
       "<matplotlib.legend.Legend at 0x1ce71a7b1c8>"
      ]
     },
     "execution_count": 12,
     "metadata": {},
     "output_type": "execute_result"
    },
    {
     "data": {
      "image/png": "[encoded data removed]",
      "text/plain": [
       "<Figure size 720x504 with 1 Axes>"
      ]
     },
     "metadata": {},
     "output_type": "display_data"
    }
   ],
   "source": [
    "# An experimental section not required by the quesiton!!!\n",
    "# Create a dictionary to show the legend on graph\n",
    "\n",
    "x_c = X_pca[:,[0,1]]\n",
    "labelNames = {1: 'WALKING', 2: 'WALKING_UPSTAIRS', 3: 'WALKING_DOWNSTAIRS', 4: 'SITTING', 5: 'STANDING', 6: 'LAYING',\n",
    "              7: 'STAND_TO_SIT', 8: 'SIT_TO_STAND', 9: 'SIT_TO_LIE', 10: 'LIE_TO_SIT', 11: 'STAND_TO_LIE', 12: 'LIE_TO_STAND'}\n",
    "\n",
    "#plt.figure(figsize=(18,8))\n",
    "\n",
    "f, ax = plt.subplots()\n",
    "for i in np.unique(y):\n",
    "    bool = y == i\n",
    "    plt.scatter(x_c[bool, 0], x_c[bool, 1], label=labelNames[i], s=20, cmap='Paired')\n",
    "\n",
    "plt.gcf().set_size_inches((10, 7))        \n",
    "ax.legend()     \n",
    "    "
   ]
  },
  {
   "cell_type": "markdown",
   "metadata": {},
   "source": [
    "**Question 3:**<br>\n",
    "If everything worked out correctly, you will see a number of clusters, almost perfectly separated from each other. What types of activity are included in these clusters? <br>\n",
    "\n",
    "**Answer options:**\n",
    "- 1 cluster: all 12 activities\n",
    "- 2 clusters: \n",
    "- 3 clusters: \n",
    "- 5 clusters\n",
    "- 12 clusters"
   ]
  },
  {
   "cell_type": "code",
   "execution_count": 13,
   "metadata": {},
   "outputs": [
    {
     "name": "stdout",
     "output_type": "stream",
     "text": [
      "From the figure above, it is not very clear, but I think that there are 3 clusters\n",
      "The types of activities can be seen from the legend of the above figure, but this was not part of multiple choices\n"
     ]
    }
   ],
   "source": [
    "print(\"From the figure above, it is not very clear, but I think that there are 3 clusters\")\n",
    "print(\"The types of activities can be seen from the legend of the above figure, but this was not part of multiple choices\")"
   ]
  },
  {
   "cell_type": "markdown",
   "metadata": {},
   "source": [
    "------------------------------"
   ]
  },
  {
   "cell_type": "markdown",
   "metadata": {},
   "source": [
    "Run the data clustering using the `KMeans` method, training the model on data with a reduced PCA dimension. In this case, we will give a clue to look for exactly 6 clusters, but in general case we will not know how many clusters we should be searching.\n",
    "\n",
    "Options:\n",
    "\n",
    "- ** n_clusters ** = n_classes (number of unique labels of the target class)\n",
    "- ** n_init ** = 100\n",
    "- ** random_state ** = RANDOM_STATE (for the reproducibility of the result)\n",
    "\n",
    "Other parameters should have default values."
   ]
  },
  {
   "cell_type": "code",
   "execution_count": 16,
   "metadata": {
    "jupyter": {
     "outputs_hidden": true
    }
   },
   "outputs": [
    {
     "data": {
      "text/plain": [
       "KMeans(algorithm='auto', copy_x=True, init='k-means++', max_iter=300,\n",
       "       n_clusters=12, n_init=100, n_jobs=None, precompute_distances='auto',\n",
       "       random_state=17, tol=0.0001, verbose=0)"
      ]
     },
     "execution_count": 16,
     "metadata": {},
     "output_type": "execute_result"
    }
   ],
   "source": [
    "# KMeans\n",
    "kmeans = KMeans(n_clusters=n_classes, random_state=RANDOM_STATE, n_init=100)\n",
    "kmeans.fit(X_pca)"
   ]
  },
  {
   "cell_type": "markdown",
   "metadata": {},
   "source": [
    "Visualize the data in the projection on the first two main components. Color the dots according to the clusters received."
   ]
  },
  {
   "cell_type": "code",
   "execution_count": 18,
   "metadata": {},
   "outputs": [
    {
     "data": {
      "image/png": "[encoded data removed]",
      "text/plain": [
       "<Figure size 864x648 with 1 Axes>"
      ]
     },
     "metadata": {},
     "output_type": "display_data"
    }
   ],
   "source": [
    "# To plot\n",
    "cluster_labels= kmeans.labels_\n",
    "plt.scatter(X_pca[:, 0], X_pca[:, 1], c=cluster_labels, s=20, cmap='viridis');\n",
    "\n",
    "# Experimenting - Not required by the quesiton.\n",
    "centers = kmeans.cluster_centers_\n",
    "plt.scatter(centers[:, 0], centers[:, 1], c='red', s=200, alpha=0.5);"
   ]
  },
  {
   "cell_type": "markdown",
   "metadata": {},
   "source": [
    "Look at the correspondence between the cluster marks and the original class labels and what kinds of activities the `KMeans` algorithm is confused at."
   ]
  },
  {
   "cell_type": "code",
   "execution_count": 20,
   "metadata": {},
   "outputs": [
    {
     "data": {
      "text/html": [
       "<div>\n",
       "<style scoped>\n",
       "    .dataframe tbody tr th:only-of-type {\n",
       "        vertical-align: middle;\n",
       "    }\n",
       "\n",
       "    .dataframe tbody tr th {\n",
       "        vertical-align: top;\n",
       "    }\n",
       "\n",
       "    .dataframe thead th {\n",
       "        text-align: right;\n",
       "    }\n",
       "</style>\n",
       "<table border=\"1\" class=\"dataframe\">\n",
       "  <thead>\n",
       "    <tr style=\"text-align: right;\">\n",
       "      <th></th>\n",
       "      <th>cluster1</th>\n",
       "      <th>cluster2</th>\n",
       "      <th>cluster3</th>\n",
       "      <th>cluster4</th>\n",
       "      <th>cluster5</th>\n",
       "      <th>cluster6</th>\n",
       "      <th>cluster7</th>\n",
       "      <th>cluster8</th>\n",
       "      <th>cluster9</th>\n",
       "      <th>cluster10</th>\n",
       "      <th>cluster11</th>\n",
       "      <th>cluster12</th>\n",
       "      <th>all</th>\n",
       "    </tr>\n",
       "  </thead>\n",
       "  <tbody>\n",
       "    <tr>\n",
       "      <th>WALKING</th>\n",
       "      <td>0</td>\n",
       "      <td>903</td>\n",
       "      <td>114</td>\n",
       "      <td>0</td>\n",
       "      <td>11</td>\n",
       "      <td>154</td>\n",
       "      <td>0</td>\n",
       "      <td>0</td>\n",
       "      <td>333</td>\n",
       "      <td>0</td>\n",
       "      <td>0</td>\n",
       "      <td>207</td>\n",
       "      <td>1722</td>\n",
       "    </tr>\n",
       "    <tr>\n",
       "      <th>WALKING_UPSTAIRS</th>\n",
       "      <td>0</td>\n",
       "      <td>155</td>\n",
       "      <td>359</td>\n",
       "      <td>0</td>\n",
       "      <td>0</td>\n",
       "      <td>65</td>\n",
       "      <td>0</td>\n",
       "      <td>0</td>\n",
       "      <td>946</td>\n",
       "      <td>0</td>\n",
       "      <td>0</td>\n",
       "      <td>19</td>\n",
       "      <td>1544</td>\n",
       "    </tr>\n",
       "    <tr>\n",
       "      <th>WALKING_DOWNSTAIRS</th>\n",
       "      <td>0</td>\n",
       "      <td>351</td>\n",
       "      <td>15</td>\n",
       "      <td>0</td>\n",
       "      <td>81</td>\n",
       "      <td>641</td>\n",
       "      <td>0</td>\n",
       "      <td>0</td>\n",
       "      <td>169</td>\n",
       "      <td>0</td>\n",
       "      <td>0</td>\n",
       "      <td>150</td>\n",
       "      <td>1407</td>\n",
       "    </tr>\n",
       "    <tr>\n",
       "      <th>SITTING</th>\n",
       "      <td>64</td>\n",
       "      <td>0</td>\n",
       "      <td>0</td>\n",
       "      <td>228</td>\n",
       "      <td>0</td>\n",
       "      <td>0</td>\n",
       "      <td>1047</td>\n",
       "      <td>456</td>\n",
       "      <td>6</td>\n",
       "      <td>0</td>\n",
       "      <td>0</td>\n",
       "      <td>0</td>\n",
       "      <td>1801</td>\n",
       "    </tr>\n",
       "    <tr>\n",
       "      <th>STANDING</th>\n",
       "      <td>0</td>\n",
       "      <td>0</td>\n",
       "      <td>0</td>\n",
       "      <td>62</td>\n",
       "      <td>0</td>\n",
       "      <td>0</td>\n",
       "      <td>953</td>\n",
       "      <td>952</td>\n",
       "      <td>12</td>\n",
       "      <td>0</td>\n",
       "      <td>0</td>\n",
       "      <td>0</td>\n",
       "      <td>1979</td>\n",
       "    </tr>\n",
       "    <tr>\n",
       "      <th>LAYING</th>\n",
       "      <td>1485</td>\n",
       "      <td>0</td>\n",
       "      <td>0</td>\n",
       "      <td>364</td>\n",
       "      <td>0</td>\n",
       "      <td>0</td>\n",
       "      <td>48</td>\n",
       "      <td>45</td>\n",
       "      <td>6</td>\n",
       "      <td>3</td>\n",
       "      <td>7</td>\n",
       "      <td>0</td>\n",
       "      <td>1958</td>\n",
       "    </tr>\n",
       "    <tr>\n",
       "      <th>STAND_TO_SIT</th>\n",
       "      <td>0</td>\n",
       "      <td>0</td>\n",
       "      <td>4</td>\n",
       "      <td>1</td>\n",
       "      <td>0</td>\n",
       "      <td>0</td>\n",
       "      <td>0</td>\n",
       "      <td>0</td>\n",
       "      <td>28</td>\n",
       "      <td>35</td>\n",
       "      <td>1</td>\n",
       "      <td>1</td>\n",
       "      <td>70</td>\n",
       "    </tr>\n",
       "    <tr>\n",
       "      <th>SIT_TO_STAND</th>\n",
       "      <td>0</td>\n",
       "      <td>0</td>\n",
       "      <td>0</td>\n",
       "      <td>3</td>\n",
       "      <td>0</td>\n",
       "      <td>0</td>\n",
       "      <td>0</td>\n",
       "      <td>0</td>\n",
       "      <td>3</td>\n",
       "      <td>14</td>\n",
       "      <td>13</td>\n",
       "      <td>0</td>\n",
       "      <td>33</td>\n",
       "    </tr>\n",
       "    <tr>\n",
       "      <th>SIT_TO_LIE</th>\n",
       "      <td>0</td>\n",
       "      <td>0</td>\n",
       "      <td>0</td>\n",
       "      <td>1</td>\n",
       "      <td>0</td>\n",
       "      <td>0</td>\n",
       "      <td>0</td>\n",
       "      <td>0</td>\n",
       "      <td>1</td>\n",
       "      <td>105</td>\n",
       "      <td>0</td>\n",
       "      <td>0</td>\n",
       "      <td>107</td>\n",
       "    </tr>\n",
       "    <tr>\n",
       "      <th>LIE_TO_SIT</th>\n",
       "      <td>0</td>\n",
       "      <td>0</td>\n",
       "      <td>0</td>\n",
       "      <td>4</td>\n",
       "      <td>0</td>\n",
       "      <td>0</td>\n",
       "      <td>0</td>\n",
       "      <td>0</td>\n",
       "      <td>1</td>\n",
       "      <td>1</td>\n",
       "      <td>79</td>\n",
       "      <td>0</td>\n",
       "      <td>85</td>\n",
       "    </tr>\n",
       "    <tr>\n",
       "      <th>STAND_TO_LIE</th>\n",
       "      <td>0</td>\n",
       "      <td>1</td>\n",
       "      <td>1</td>\n",
       "      <td>0</td>\n",
       "      <td>0</td>\n",
       "      <td>0</td>\n",
       "      <td>0</td>\n",
       "      <td>1</td>\n",
       "      <td>17</td>\n",
       "      <td>118</td>\n",
       "      <td>1</td>\n",
       "      <td>0</td>\n",
       "      <td>139</td>\n",
       "    </tr>\n",
       "    <tr>\n",
       "      <th>LIE_TO_STAND</th>\n",
       "      <td>0</td>\n",
       "      <td>0</td>\n",
       "      <td>0</td>\n",
       "      <td>2</td>\n",
       "      <td>0</td>\n",
       "      <td>0</td>\n",
       "      <td>0</td>\n",
       "      <td>0</td>\n",
       "      <td>2</td>\n",
       "      <td>4</td>\n",
       "      <td>76</td>\n",
       "      <td>0</td>\n",
       "      <td>84</td>\n",
       "    </tr>\n",
       "    <tr>\n",
       "      <th>all</th>\n",
       "      <td>1549</td>\n",
       "      <td>1410</td>\n",
       "      <td>493</td>\n",
       "      <td>665</td>\n",
       "      <td>92</td>\n",
       "      <td>860</td>\n",
       "      <td>2048</td>\n",
       "      <td>1454</td>\n",
       "      <td>1524</td>\n",
       "      <td>280</td>\n",
       "      <td>177</td>\n",
       "      <td>377</td>\n",
       "      <td>10929</td>\n",
       "    </tr>\n",
       "  </tbody>\n",
       "</table>\n",
       "</div>"
      ],
      "text/plain": [
       "                    cluster1  cluster2  cluster3  cluster4  cluster5  \\\n",
       "WALKING                    0       903       114         0        11   \n",
       "WALKING_UPSTAIRS           0       155       359         0         0   \n",
       "WALKING_DOWNSTAIRS         0       351        15         0        81   \n",
       "SITTING                   64         0         0       228         0   \n",
       "STANDING                   0         0         0        62         0   \n",
       "LAYING                  1485         0         0       364         0   \n",
       "STAND_TO_SIT               0         0         4         1         0   \n",
       "SIT_TO_STAND               0         0         0         3         0   \n",
       "SIT_TO_LIE                 0         0         0         1         0   \n",
       "LIE_TO_SIT                 0         0         0         4         0   \n",
       "STAND_TO_LIE               0         1         1         0         0   \n",
       "LIE_TO_STAND               0         0         0         2         0   \n",
       "all                     1549      1410       493       665        92   \n",
       "\n",
       "                    cluster6  cluster7  cluster8  cluster9  cluster10  \\\n",
       "WALKING                  154         0         0       333          0   \n",
       "WALKING_UPSTAIRS          65         0         0       946          0   \n",
       "WALKING_DOWNSTAIRS       641         0         0       169          0   \n",
       "SITTING                    0      1047       456         6          0   \n",
       "STANDING                   0       953       952        12          0   \n",
       "LAYING                     0        48        45         6          3   \n",
       "STAND_TO_SIT               0         0         0        28         35   \n",
       "SIT_TO_STAND               0         0         0         3         14   \n",
       "SIT_TO_LIE                 0         0         0         1        105   \n",
       "LIE_TO_SIT                 0         0         0         1          1   \n",
       "STAND_TO_LIE               0         0         1        17        118   \n",
       "LIE_TO_STAND               0         0         0         2          4   \n",
       "all                      860      2048      1454      1524        280   \n",
       "\n",
       "                    cluster11  cluster12    all  \n",
       "WALKING                     0        207   1722  \n",
       "WALKING_UPSTAIRS            0         19   1544  \n",
       "WALKING_DOWNSTAIRS          0        150   1407  \n",
       "SITTING                     0          0   1801  \n",
       "STANDING                    0          0   1979  \n",
       "LAYING                      7          0   1958  \n",
       "STAND_TO_SIT                1          1     70  \n",
       "SIT_TO_STAND               13          0     33  \n",
       "SIT_TO_LIE                  0          0    107  \n",
       "LIE_TO_SIT                 79          0     85  \n",
       "STAND_TO_LIE                1          0    139  \n",
       "LIE_TO_STAND               76          0     84  \n",
       "all                       177        377  10929  "
      ]
     },
     "execution_count": 20,
     "metadata": {},
     "output_type": "execute_result"
    }
   ],
   "source": [
    "# y is row, cluster_lables is column\n",
    "tab = pd.crosstab(y, cluster_labels, margins=True)\n",
    "\n",
    "# Updated based on the descripiton of labels above -- The original list some had typos\n",
    "tab.index = ['WALKING', 'WALKING_UPSTAIRS',\n",
    "            'WALKING_DOWNSTAIRS', 'SITTING', 'STANDING', 'LAYING', 'STAND_TO_SIT', 'SIT_TO_STAND', \n",
    "             'SIT_TO_LIE', 'LIE_TO_SIT', 'STAND_TO_LIE', 'LIE_TO_STAND'  ,'all']\n",
    "\n",
    "tab.columns = ['cluster' + str(i + 1) for i in range(12)] + ['all']\n",
    "tab"
   ]
  },
  {
   "cell_type": "markdown",
   "metadata": {},
   "source": [
    "We see that for each class (i.e., each activity) there are several clusters. Let's look at the maximum percentage of objects in a class that are assigned to a single cluster. This will be a simple metric that characterizes how easily the class separates from others when clustering.\n",
    "\n",
    "Example: if for the class of \"WALKING_UPSTAIRS\", in which there are 1544 objects, the distribution of clusters is:\n",
    " - cluster 1 - 0\n",
    " - cluster 2 - 0\n",
    " - cluster 3 - 949\n",
    " -  ....\n",
    " - cluster 12 - 357\n",
    " \n",
    " then such a share will be 949/1544 $ \\ approx $ 0.61.\n",
    "\n",
    "** Question 4: ** <br>\n",
    "Which activity has been separated from the rest better than others based on the simple metric described above? <br>\n",
    "\n",
    "**Answer:**\n",
    "- 1 WALKING           \n",
    "- 2 WALKING_UPSTAIRS  \n",
    "- 3 WALKING_DOWNSTAIRS\n",
    "- 4 SITTING           \n",
    "- 5 STANDING          \n",
    "- 6 LAYING            \n",
    "- 7 STAND_TO_SIT      \n",
    "- 8 SIT_TO_STAND      \n",
    "- 9 SIT_TO_LIE        \n",
    "- 10 LIE_TO_SIT        \n",
    "- 11 STAND_TO_LIE      \n",
    "- 12 LIE_TO_STAND  \n",
    "- there is no correct answer"
   ]
  },
  {
   "cell_type": "code",
   "execution_count": 36,
   "metadata": {},
   "outputs": [
    {
     "data": {
      "text/html": [
       "<div>\n",
       "<style scoped>\n",
       "    .dataframe tbody tr th:only-of-type {\n",
       "        vertical-align: middle;\n",
       "    }\n",
       "\n",
       "    .dataframe tbody tr th {\n",
       "        vertical-align: top;\n",
       "    }\n",
       "\n",
       "    .dataframe thead th {\n",
       "        text-align: right;\n",
       "    }\n",
       "</style>\n",
       "<table border=\"1\" class=\"dataframe\">\n",
       "  <thead>\n",
       "    <tr style=\"text-align: right;\">\n",
       "      <th></th>\n",
       "      <th>Activity</th>\n",
       "      <th>Share</th>\n",
       "    </tr>\n",
       "  </thead>\n",
       "  <tbody>\n",
       "    <tr>\n",
       "      <th>0</th>\n",
       "      <td>WALKING</td>\n",
       "      <td>0.524390</td>\n",
       "    </tr>\n",
       "    <tr>\n",
       "      <th>1</th>\n",
       "      <td>WALKING_UPSTAIRS</td>\n",
       "      <td>0.612694</td>\n",
       "    </tr>\n",
       "    <tr>\n",
       "      <th>2</th>\n",
       "      <td>WALKING_DOWNSTAIRS</td>\n",
       "      <td>0.455579</td>\n",
       "    </tr>\n",
       "    <tr>\n",
       "      <th>3</th>\n",
       "      <td>SITTING</td>\n",
       "      <td>0.581344</td>\n",
       "    </tr>\n",
       "    <tr>\n",
       "      <th>4</th>\n",
       "      <td>STANDING</td>\n",
       "      <td>0.481556</td>\n",
       "    </tr>\n",
       "    <tr>\n",
       "      <th>5</th>\n",
       "      <td>LAYING</td>\n",
       "      <td>0.758427</td>\n",
       "    </tr>\n",
       "    <tr>\n",
       "      <th>6</th>\n",
       "      <td>STAND_TO_SIT</td>\n",
       "      <td>0.500000</td>\n",
       "    </tr>\n",
       "    <tr>\n",
       "      <th>7</th>\n",
       "      <td>SIT_TO_STAND</td>\n",
       "      <td>0.424242</td>\n",
       "    </tr>\n",
       "    <tr>\n",
       "      <th>8</th>\n",
       "      <td>SIT_TO_LIE</td>\n",
       "      <td>0.981308</td>\n",
       "    </tr>\n",
       "    <tr>\n",
       "      <th>9</th>\n",
       "      <td>LIE_TO_SIT</td>\n",
       "      <td>0.929412</td>\n",
       "    </tr>\n",
       "    <tr>\n",
       "      <th>10</th>\n",
       "      <td>STAND_TO_LIE</td>\n",
       "      <td>0.848921</td>\n",
       "    </tr>\n",
       "    <tr>\n",
       "      <th>11</th>\n",
       "      <td>LIE_TO_STAND</td>\n",
       "      <td>0.904762</td>\n",
       "    </tr>\n",
       "  </tbody>\n",
       "</table>\n",
       "</div>"
      ],
      "text/plain": [
       "              Activity     Share\n",
       "0              WALKING  0.524390\n",
       "1     WALKING_UPSTAIRS  0.612694\n",
       "2   WALKING_DOWNSTAIRS  0.455579\n",
       "3              SITTING  0.581344\n",
       "4             STANDING  0.481556\n",
       "5               LAYING  0.758427\n",
       "6         STAND_TO_SIT  0.500000\n",
       "7         SIT_TO_STAND  0.424242\n",
       "8           SIT_TO_LIE  0.981308\n",
       "9           LIE_TO_SIT  0.929412\n",
       "10        STAND_TO_LIE  0.848921\n",
       "11        LIE_TO_STAND  0.904762"
      ]
     },
     "execution_count": 36,
     "metadata": {},
     "output_type": "execute_result"
    },
    {
     "name": "stdout",
     "output_type": "stream",
     "text": [
      "No perfect answers, but it seems activity is  SIT_TO_LIE  and the percentage is 98.13%\n"
     ]
    }
   ],
   "source": [
    "actData = tab.iloc[:12,:12].max(axis=1).values / tab.iloc[:12,12].values\n",
    "actDF=pd.DataFrame({'Activity': tab.index[:12], 'Share': actData})\n",
    "actDF\n",
    "\n",
    "m1=actDF['Share'].idxmax() \n",
    "#actDF.iloc[m1]\n",
    "#print(\"No perfect answers, but it seems Sit-To-Lie has a higher percentage (0.98)\")\n",
    "\n",
    "print(\"No perfect answers, but it seems activity is \", actDF.iloc[m1][0], \" and the percentage is\", \"{:.2%}\".format(actDF.iloc[m1][1]))"
   ]
  },
  {
   "cell_type": "markdown",
   "metadata": {},
   "source": [
    "Use the elbow method to select the optimal number of clusters. Parameters of the algorithm and the data we use are the same as before, we change only `n_clusters`."
   ]
  },
  {
   "cell_type": "code",
   "execution_count": 37,
   "metadata": {},
   "outputs": [
    {
     "name": "stderr",
     "output_type": "stream",
     "text": [
      "C:\\Users\\Bita\\Anaconda3\\lib\\site-packages\\ipykernel_launcher.py:3: TqdmDeprecationWarning: This function will be removed in tqdm==5.0.0\n",
      "Please use `tqdm.notebook.tqdm` instead of `tqdm.tqdm_notebook`\n",
      "  This is separate from the ipykernel package so we can avoid doing imports until\n"
     ]
    },
    {
     "data": {
      "application/vnd.jupyter.widget-view+json": {
       "model_id": "349f71767a79463e811d072c88ba887e",
       "version_major": 2,
       "version_minor": 0
      },
      "text/plain": [
       "HBox(children=(FloatProgress(value=0.0, max=12.0), HTML(value='')))"
      ]
     },
     "metadata": {},
     "output_type": "display_data"
    },
    {
     "name": "stdout",
     "output_type": "stream",
     "text": [
      "\n"
     ]
    },
    {
     "data": {
      "image/png": "[encoded data removed]",
      "text/plain": [
       "<Figure size 864x648 with 1 Axes>"
      ]
     },
     "metadata": {},
     "output_type": "display_data"
    }
   ],
   "source": [
    "# This is partly based on the code provided in the lecture notes\n",
    "inertia = []\n",
    "for k in tqdm_notebook(range(1, n_classes + 1)):\n",
    "    kmeans=KMeans(n_clusters=k, random_state=RANDOM_STATE, n_init=100).fit(X_pca)\n",
    "    inertia.append(np.sqrt(kmeans.inertia_)) \n",
    "\n",
    "    \n",
    "plt.plot(range(1, n_classes + 1), inertia, marker='s');\n",
    "#plt.plot(range(1, 6 + 1), inertia, marker='s')\n",
    "plt.xlabel('$k$')\n",
    "plt.ylabel('$J(C_k)$');      "
   ]
  },
  {
   "cell_type": "markdown",
   "metadata": {},
   "source": [
    "\n",
    "\n",
    "We calculate $ D(k) $, as described in the lecture"
   ]
  },
  {
   "cell_type": "code",
   "execution_count": 38,
   "metadata": {},
   "outputs": [
    {
     "data": {
      "text/plain": [
       "[2350.1666615794015,\n",
       " 1746.7081000584876,\n",
       " 1621.5654752156129,\n",
       " 1564.4463426040722,\n",
       " 1521.1564826858412,\n",
       " 1478.1411582065252,\n",
       " 1452.449319086277,\n",
       " 1432.534822186604,\n",
       " 1415.5267018991608,\n",
       " 1401.5773753128528,\n",
       " 1387.9804485593475,\n",
       " 1374.8868117976367]"
      ]
     },
     "execution_count": 38,
     "metadata": {},
     "output_type": "execute_result"
    },
    {
     "data": {
      "text/plain": [
       "12"
      ]
     },
     "execution_count": 38,
     "metadata": {},
     "output_type": "execute_result"
    },
    {
     "data": {
      "text/plain": [
       "dict_items([(2, 0.20737567220435849), (3, 0.45643227224343164), (4, 0.7578872076479074), (5, 0.9936582044979201), (6, 0.597271773053862), (7, 0.7751292854694058), (8, 0.854057241472296), (9, 0.8201568633428855), (10, 0.9747371437164232), (11, 0.9629850185325964)])"
      ]
     },
     "execution_count": 38,
     "metadata": {},
     "output_type": "execute_result"
    }
   ],
   "source": [
    "# Check contents of inertia\n",
    "inertia\n",
    "len(inertia)\n",
    "\n",
    "d = {}\n",
    "for k in range(2, 12):\n",
    "    inerIndex = k - 1   # Locating the data based on inertiaIndex\n",
    "    d[k] = (inertia[inerIndex] - inertia[inerIndex + 1]) / (inertia[inerIndex - 1] - inertia[inerIndex])\n",
    "\n",
    "d.items()"
   ]
  },
  {
   "cell_type": "markdown",
   "metadata": {},
   "source": [
    "** Question 5: ** <br>\n",
    "How many clusters can we choose according to the elbow method? <br>\n",
    "\n",
    "**Answer options:**\n",
    "- 1\n",
    "- 2\n",
    "- 3\n",
    "- 4\n",
    "- 5\n",
    "- 6\n",
    "- 7 "
   ]
  },
  {
   "cell_type": "code",
   "execution_count": 39,
   "metadata": {},
   "outputs": [
    {
     "name": "stdout",
     "output_type": "stream",
     "text": [
      "The graph shows a large decline at 2, also, at 2, d has the smallest number which is 0.20\n"
     ]
    }
   ],
   "source": [
    "# The number we choose\n",
    "print(\"The graph shows a large decline at 2, also, at 2, d has the smallest number which is 0.20\")"
   ]
  },
  {
   "cell_type": "markdown",
   "metadata": {},
   "source": [
    "------------------------"
   ]
  },
  {
   "cell_type": "markdown",
   "metadata": {},
   "source": [
    "Let's try another method of clustering, which was described in the article - agglomerative clustering."
   ]
  },
  {
   "cell_type": "code",
   "execution_count": 40,
   "metadata": {
    "jupyter": {
     "outputs_hidden": true
    }
   },
   "outputs": [
    {
     "data": {
      "text/plain": [
       "AgglomerativeClustering(affinity='euclidean', compute_full_tree='auto',\n",
       "                        connectivity=None, distance_threshold=None,\n",
       "                        linkage='ward', memory=None, n_clusters=12,\n",
       "                        pooling_func='deprecated')"
      ]
     },
     "execution_count": 40,
     "metadata": {},
     "output_type": "execute_result"
    }
   ],
   "source": [
    "ag = AgglomerativeClustering(n_clusters=n_classes,linkage='ward').fit(X_pca)\n",
    "ag"
   ]
  },
  {
   "cell_type": "code",
   "execution_count": null,
   "metadata": {},
   "outputs": [],
   "source": [
    "# Just practising with examples to get a better idea of ARI\n",
    "#labels_t = [0, 0, 0, 1, 1, 1]\n",
    "#labels_p = [3, 2, 4, 1, 3, 1]\n",
    "#adjusted_rand_score(labels_t, labels_p)\n",
    "\n",
    "#labels_t = [0, 0, 0, 1, 1, 1]\n",
    "#labels_p = [0, 0, 0, 1, 1, 1]\n",
    "#adjusted_rand_score(labels_t, labels_p)\n",
    "\n",
    "#labels_t = [0, 0, 0, 1, 1, 1]\n",
    "#labels_p = [0, 0, 1, 1, 1, 1]\n",
    "#adjusted_rand_score(labels_t, labels_p)"
   ]
  },
  {
   "cell_type": "markdown",
   "metadata": {},
   "source": [
    "Calculate the Adjusted Rand Index (`sklearn.metrics`) for the resulting clustering and for ` KMeans` with the parameters from the 4th question."
   ]
  },
  {
   "cell_type": "code",
   "execution_count": 41,
   "metadata": {},
   "outputs": [
    {
     "name": "stdout",
     "output_type": "stream",
     "text": [
      "For Agglomerative, the ARI is \n"
     ]
    },
    {
     "data": {
      "text/plain": [
       "0.46574365320501654"
      ]
     },
     "execution_count": 41,
     "metadata": {},
     "output_type": "execute_result"
    }
   ],
   "source": [
    "# ARI for agglomerative\n",
    "print(\"For Agglomerative, the ARI is \")\n",
    "adjusted_rand_score(y,ag.labels_)"
   ]
  },
  {
   "cell_type": "code",
   "execution_count": 42,
   "metadata": {},
   "outputs": [
    {
     "name": "stdout",
     "output_type": "stream",
     "text": [
      "For K-Means, the ARI is \n"
     ]
    },
    {
     "data": {
      "text/plain": [
       "0.41636325701082716"
      ]
     },
     "execution_count": 42,
     "metadata": {},
     "output_type": "execute_result"
    }
   ],
   "source": [
    "# ARI for KMeans from 4th Question\n",
    "print(\"For K-Means, the ARI is \")\n",
    "adjusted_rand_score(y,cluster_labels)"
   ]
  },
  {
   "cell_type": "markdown",
   "metadata": {},
   "source": [
    "** Question 6: ** <br>\n",
    "Select all the correct statements. <br>\n",
    "\n",
    "** Answer options: **\n",
    "- ARI expresses the similarity of the tags obtained after clustering, with class labels for the same sample and the higher the value of this index, the better\n",
    "- According to ARI, KMeans handled clustering worse than Agglomerative Clustering\n",
    "- For ARI, it does not matter which tags are assigned to the cluster, only the partitioning of objects into clusters is important\n",
    "- In case of random partitioning into clusters ARI will be close to zero\n",
    "\n",
    "\n",
    "\n",
    "**Comment:**\n",
    "Check ARI documentation in sklearn docs"
   ]
  },
  {
   "cell_type": "code",
   "execution_count": 44,
   "metadata": {},
   "outputs": [
    {
     "name": "stdout",
     "output_type": "stream",
     "text": [
      "In the docs it is mentioned:\n",
      " The adjusted Rand index is thus ensured to have a value close to 0.0 for random labeling independently of the number of \n",
      " clusters and samples and exactly 1.0 when the clusterings are identical up to a permutation\n",
      "From the notes: This metric does not depend on the labels' values but on the data cluster split.\n",
      "\n",
      "Hence: \n",
      "\n",
      "Options 1,3 and 4 seem True\n",
      "Moreover, KMeans had a lower ARI score than Agglomerative, so Option 2 seems True\n"
     ]
    }
   ],
   "source": [
    "# Answer:\n",
    "docInfo = \"In the docs it is mentioned:\\n The adjusted Rand index is thus ensured to have a value close to 0.0 for random labeling independently of the number of \\n clusters and samples and exactly 1.0 when the clusterings are identical up to a permutation\"\n",
    "\n",
    "print(docInfo)\n",
    "print(\"From the notes: This metric does not depend on the labels' values but on the data cluster split.\")\n",
    "print(\"\\nHence: \\n\")\n",
    "print(\"Options 1,3 and 4 seem True\")\n",
    "print(\"Moreover, KMeans had a lower ARI score than Agglomerative, so Option 2 seems True\")"
   ]
  },
  {
   "cell_type": "code",
   "execution_count": 52,
   "metadata": {},
   "outputs": [],
   "source": [
    "# -----------------------------------------------------------------------------------"
   ]
  },
  {
   "cell_type": "markdown",
   "metadata": {},
   "source": [
    "You can notice that the task is not very well solved just as a clustering task if you select several clusters (> 2). Now, let's solve the classification problem, given that the data is marked up.\n",
    "\n",
    "For classification, use the support vector machine - class `sklearn.svm.LinearSVC`. in this course, we did not review on this algorithm separately, but it is well-known and you can read about it, for example, in the materials of Yevgeny Sokolov - [here](https://github.com/esokolov/ml-course-msu/blob/master/ML16/lecture-notes/Sem11_linear.pdf).\n",
    "\n",
    "Choose the `C` hyperparameter for` LinearSVC` using `GridSearchCV`.\n",
    "\n",
    "- Train the new `StandardScaler` on the training sample (with all the original features), apply scaling to the test sample\n",
    "- In `GridSearchCV`, specify cv = 3."
   ]
  },
  {
   "cell_type": "code",
   "execution_count": 45,
   "metadata": {
    "jupyter": {
     "outputs_hidden": true
    }
   },
   "outputs": [],
   "source": [
    "# Scaling test and train data seperately\n",
    "scaler = StandardScaler()\n",
    "X_train_scaled = scaler.fit_transform(X_train)\n",
    "X_test_scaled = scaler.transform(X_test)"
   ]
  },
  {
   "cell_type": "code",
   "execution_count": 46,
   "metadata": {
    "jupyter": {
     "outputs_hidden": true
    }
   },
   "outputs": [],
   "source": [
    "# Linear Support Vector Classification\n",
    "svc = LinearSVC(random_state=RANDOM_STATE)\n",
    "svc_params = {'C': [0.001, 0.01, 0.1, 1, 10]}"
   ]
  },
  {
   "cell_type": "code",
   "execution_count": 47,
   "metadata": {},
   "outputs": [
    {
     "name": "stdout",
     "output_type": "stream",
     "text": [
      "Fitting 3 folds for each of 5 candidates, totalling 15 fits\n"
     ]
    },
    {
     "name": "stderr",
     "output_type": "stream",
     "text": [
      "[Parallel(n_jobs=1)]: Using backend SequentialBackend with 1 concurrent workers.\n",
      "C:\\Users\\Bita\\Anaconda3\\lib\\site-packages\\sklearn\\svm\\base.py:929: ConvergenceWarning: Liblinear failed to converge, increase the number of iterations.\n",
      "  \"the number of iterations.\", ConvergenceWarning)\n",
      "C:\\Users\\Bita\\Anaconda3\\lib\\site-packages\\sklearn\\svm\\base.py:929: ConvergenceWarning: Liblinear failed to converge, increase the number of iterations.\n",
      "  \"the number of iterations.\", ConvergenceWarning)\n",
      "C:\\Users\\Bita\\Anaconda3\\lib\\site-packages\\sklearn\\svm\\base.py:929: ConvergenceWarning: Liblinear failed to converge, increase the number of iterations.\n",
      "  \"the number of iterations.\", ConvergenceWarning)\n",
      "C:\\Users\\Bita\\Anaconda3\\lib\\site-packages\\sklearn\\svm\\base.py:929: ConvergenceWarning: Liblinear failed to converge, increase the number of iterations.\n",
      "  \"the number of iterations.\", ConvergenceWarning)\n",
      "C:\\Users\\Bita\\Anaconda3\\lib\\site-packages\\sklearn\\svm\\base.py:929: ConvergenceWarning: Liblinear failed to converge, increase the number of iterations.\n",
      "  \"the number of iterations.\", ConvergenceWarning)\n",
      "C:\\Users\\Bita\\Anaconda3\\lib\\site-packages\\sklearn\\svm\\base.py:929: ConvergenceWarning: Liblinear failed to converge, increase the number of iterations.\n",
      "  \"the number of iterations.\", ConvergenceWarning)\n",
      "C:\\Users\\Bita\\Anaconda3\\lib\\site-packages\\sklearn\\svm\\base.py:929: ConvergenceWarning: Liblinear failed to converge, increase the number of iterations.\n",
      "  \"the number of iterations.\", ConvergenceWarning)\n",
      "C:\\Users\\Bita\\Anaconda3\\lib\\site-packages\\sklearn\\svm\\base.py:929: ConvergenceWarning: Liblinear failed to converge, increase the number of iterations.\n",
      "  \"the number of iterations.\", ConvergenceWarning)\n",
      "C:\\Users\\Bita\\Anaconda3\\lib\\site-packages\\sklearn\\svm\\base.py:929: ConvergenceWarning: Liblinear failed to converge, increase the number of iterations.\n",
      "  \"the number of iterations.\", ConvergenceWarning)\n",
      "[Parallel(n_jobs=1)]: Done  15 out of  15 | elapsed:  1.8min finished\n",
      "C:\\Users\\Bita\\Anaconda3\\lib\\site-packages\\sklearn\\svm\\base.py:929: ConvergenceWarning: Liblinear failed to converge, increase the number of iterations.\n",
      "  \"the number of iterations.\", ConvergenceWarning)\n"
     ]
    },
    {
     "data": {
      "text/plain": [
       "GridSearchCV(cv=3, error_score='raise-deprecating',\n",
       "             estimator=LinearSVC(C=1.0, class_weight=None, dual=True,\n",
       "                                 fit_intercept=True, intercept_scaling=1,\n",
       "                                 loss='squared_hinge', max_iter=1000,\n",
       "                                 multi_class='ovr', penalty='l2',\n",
       "                                 random_state=17, tol=0.0001, verbose=0),\n",
       "             iid='warn', n_jobs=None,\n",
       "             param_grid={'C': [0.001, 0.01, 0.1, 1, 10]},\n",
       "             pre_dispatch='2*n_jobs', refit=True, return_train_score=False,\n",
       "             scoring=None, verbose=1)"
      ]
     },
     "execution_count": 47,
     "metadata": {},
     "output_type": "execute_result"
    }
   ],
   "source": [
    "# Cross Validation of SVC with CV=3\n",
    "best_svc = GridSearchCV(svc, svc_params, cv=3, verbose=1)\n",
    "best_svc.fit(X_train_scaled, y_train)"
   ]
  },
  {
   "cell_type": "code",
   "execution_count": 48,
   "metadata": {},
   "outputs": [
    {
     "data": {
      "text/plain": [
       "({'C': 0.1}, 0.9284150894811382)"
      ]
     },
     "execution_count": 48,
     "metadata": {},
     "output_type": "execute_result"
    }
   ],
   "source": [
    "best_svc.best_params_, best_svc.best_score_"
   ]
  },
  {
   "cell_type": "markdown",
   "metadata": {},
   "source": [
    "**Question 7**<br>\n",
    "Which value of the hyperparameter `C` was chosen the best on the basis of cross-validation? <br>\n",
    "\n",
    "**Answer options:**\n",
    "- 0.001\n",
    "- 0.01\n",
    "- 0.1,\n",
    "- 1\n",
    "- 10"
   ]
  },
  {
   "cell_type": "code",
   "execution_count": 49,
   "metadata": {},
   "outputs": [
    {
     "name": "stdout",
     "output_type": "stream",
     "text": [
      "The best value of C is  0.1\n"
     ]
    }
   ],
   "source": [
    "print(\"The best value of C is \", best_svc.best_params_['C'])"
   ]
  },
  {
   "cell_type": "code",
   "execution_count": 59,
   "metadata": {},
   "outputs": [],
   "source": [
    "# ---------------------------------------------------------------------"
   ]
  },
  {
   "cell_type": "code",
   "execution_count": 50,
   "metadata": {
    "jupyter": {
     "outputs_hidden": true
    }
   },
   "outputs": [],
   "source": [
    "y_predicted = best_svc.predict(X_test_scaled)"
   ]
  },
  {
   "cell_type": "code",
   "execution_count": 51,
   "metadata": {},
   "outputs": [
    {
     "data": {
      "text/html": [
       "<div>\n",
       "<style scoped>\n",
       "    .dataframe tbody tr th:only-of-type {\n",
       "        vertical-align: middle;\n",
       "    }\n",
       "\n",
       "    .dataframe tbody tr th {\n",
       "        vertical-align: top;\n",
       "    }\n",
       "\n",
       "    .dataframe thead th {\n",
       "        text-align: right;\n",
       "    }\n",
       "</style>\n",
       "<table border=\"1\" class=\"dataframe\">\n",
       "  <thead>\n",
       "    <tr style=\"text-align: right;\">\n",
       "      <th></th>\n",
       "      <th>WALKING</th>\n",
       "      <th>WALKING_UPSTAIRS</th>\n",
       "      <th>WALKING_DOWNSTAIRS</th>\n",
       "      <th>SITTING</th>\n",
       "      <th>STANDING</th>\n",
       "      <th>LAYING</th>\n",
       "      <th>STAND_TO_SIT</th>\n",
       "      <th>SIT_TO_STAND</th>\n",
       "      <th>SIT_TO_LIE</th>\n",
       "      <th>LIE_TO_SIT</th>\n",
       "      <th>STAND_TO_LIE</th>\n",
       "      <th>LIE_TO_STAND</th>\n",
       "      <th>all</th>\n",
       "    </tr>\n",
       "  </thead>\n",
       "  <tbody>\n",
       "    <tr>\n",
       "      <th>WALKING</th>\n",
       "      <td>495</td>\n",
       "      <td>1</td>\n",
       "      <td>0</td>\n",
       "      <td>0</td>\n",
       "      <td>0</td>\n",
       "      <td>0</td>\n",
       "      <td>0</td>\n",
       "      <td>0</td>\n",
       "      <td>0</td>\n",
       "      <td>0</td>\n",
       "      <td>0</td>\n",
       "      <td>0</td>\n",
       "      <td>496</td>\n",
       "    </tr>\n",
       "    <tr>\n",
       "      <th>WALKING_UPSTAIRS</th>\n",
       "      <td>17</td>\n",
       "      <td>450</td>\n",
       "      <td>1</td>\n",
       "      <td>1</td>\n",
       "      <td>0</td>\n",
       "      <td>0</td>\n",
       "      <td>1</td>\n",
       "      <td>0</td>\n",
       "      <td>0</td>\n",
       "      <td>0</td>\n",
       "      <td>1</td>\n",
       "      <td>0</td>\n",
       "      <td>471</td>\n",
       "    </tr>\n",
       "    <tr>\n",
       "      <th>WALKING_DOWNSTAIRS</th>\n",
       "      <td>4</td>\n",
       "      <td>3</td>\n",
       "      <td>411</td>\n",
       "      <td>0</td>\n",
       "      <td>2</td>\n",
       "      <td>0</td>\n",
       "      <td>0</td>\n",
       "      <td>0</td>\n",
       "      <td>0</td>\n",
       "      <td>0</td>\n",
       "      <td>0</td>\n",
       "      <td>0</td>\n",
       "      <td>420</td>\n",
       "    </tr>\n",
       "    <tr>\n",
       "      <th>SITTING</th>\n",
       "      <td>0</td>\n",
       "      <td>4</td>\n",
       "      <td>0</td>\n",
       "      <td>439</td>\n",
       "      <td>62</td>\n",
       "      <td>2</td>\n",
       "      <td>1</td>\n",
       "      <td>0</td>\n",
       "      <td>0</td>\n",
       "      <td>0</td>\n",
       "      <td>0</td>\n",
       "      <td>0</td>\n",
       "      <td>508</td>\n",
       "    </tr>\n",
       "    <tr>\n",
       "      <th>STANDING</th>\n",
       "      <td>0</td>\n",
       "      <td>0</td>\n",
       "      <td>0</td>\n",
       "      <td>12</td>\n",
       "      <td>543</td>\n",
       "      <td>0</td>\n",
       "      <td>1</td>\n",
       "      <td>0</td>\n",
       "      <td>0</td>\n",
       "      <td>0</td>\n",
       "      <td>0</td>\n",
       "      <td>0</td>\n",
       "      <td>556</td>\n",
       "    </tr>\n",
       "    <tr>\n",
       "      <th>LAYING</th>\n",
       "      <td>0</td>\n",
       "      <td>0</td>\n",
       "      <td>0</td>\n",
       "      <td>0</td>\n",
       "      <td>8</td>\n",
       "      <td>537</td>\n",
       "      <td>0</td>\n",
       "      <td>0</td>\n",
       "      <td>0</td>\n",
       "      <td>0</td>\n",
       "      <td>0</td>\n",
       "      <td>0</td>\n",
       "      <td>545</td>\n",
       "    </tr>\n",
       "    <tr>\n",
       "      <th>STAND_TO_SIT</th>\n",
       "      <td>0</td>\n",
       "      <td>0</td>\n",
       "      <td>0</td>\n",
       "      <td>1</td>\n",
       "      <td>2</td>\n",
       "      <td>0</td>\n",
       "      <td>19</td>\n",
       "      <td>0</td>\n",
       "      <td>1</td>\n",
       "      <td>0</td>\n",
       "      <td>0</td>\n",
       "      <td>0</td>\n",
       "      <td>23</td>\n",
       "    </tr>\n",
       "    <tr>\n",
       "      <th>SIT_TO_STAND</th>\n",
       "      <td>0</td>\n",
       "      <td>0</td>\n",
       "      <td>0</td>\n",
       "      <td>0</td>\n",
       "      <td>0</td>\n",
       "      <td>0</td>\n",
       "      <td>0</td>\n",
       "      <td>10</td>\n",
       "      <td>0</td>\n",
       "      <td>0</td>\n",
       "      <td>0</td>\n",
       "      <td>0</td>\n",
       "      <td>10</td>\n",
       "    </tr>\n",
       "    <tr>\n",
       "      <th>SIT_TO_LIE</th>\n",
       "      <td>0</td>\n",
       "      <td>0</td>\n",
       "      <td>0</td>\n",
       "      <td>0</td>\n",
       "      <td>2</td>\n",
       "      <td>1</td>\n",
       "      <td>2</td>\n",
       "      <td>0</td>\n",
       "      <td>21</td>\n",
       "      <td>0</td>\n",
       "      <td>6</td>\n",
       "      <td>0</td>\n",
       "      <td>32</td>\n",
       "    </tr>\n",
       "    <tr>\n",
       "      <th>LIE_TO_SIT</th>\n",
       "      <td>0</td>\n",
       "      <td>0</td>\n",
       "      <td>0</td>\n",
       "      <td>0</td>\n",
       "      <td>0</td>\n",
       "      <td>0</td>\n",
       "      <td>0</td>\n",
       "      <td>0</td>\n",
       "      <td>0</td>\n",
       "      <td>18</td>\n",
       "      <td>0</td>\n",
       "      <td>7</td>\n",
       "      <td>25</td>\n",
       "    </tr>\n",
       "    <tr>\n",
       "      <th>STAND_TO_LIE</th>\n",
       "      <td>2</td>\n",
       "      <td>1</td>\n",
       "      <td>0</td>\n",
       "      <td>2</td>\n",
       "      <td>0</td>\n",
       "      <td>1</td>\n",
       "      <td>0</td>\n",
       "      <td>0</td>\n",
       "      <td>10</td>\n",
       "      <td>1</td>\n",
       "      <td>31</td>\n",
       "      <td>1</td>\n",
       "      <td>49</td>\n",
       "    </tr>\n",
       "    <tr>\n",
       "      <th>LIE_TO_STAND</th>\n",
       "      <td>0</td>\n",
       "      <td>0</td>\n",
       "      <td>0</td>\n",
       "      <td>0</td>\n",
       "      <td>0</td>\n",
       "      <td>0</td>\n",
       "      <td>0</td>\n",
       "      <td>0</td>\n",
       "      <td>0</td>\n",
       "      <td>6</td>\n",
       "      <td>2</td>\n",
       "      <td>19</td>\n",
       "      <td>27</td>\n",
       "    </tr>\n",
       "    <tr>\n",
       "      <th>all</th>\n",
       "      <td>518</td>\n",
       "      <td>459</td>\n",
       "      <td>412</td>\n",
       "      <td>455</td>\n",
       "      <td>619</td>\n",
       "      <td>541</td>\n",
       "      <td>24</td>\n",
       "      <td>10</td>\n",
       "      <td>32</td>\n",
       "      <td>25</td>\n",
       "      <td>40</td>\n",
       "      <td>27</td>\n",
       "      <td>3162</td>\n",
       "    </tr>\n",
       "  </tbody>\n",
       "</table>\n",
       "</div>"
      ],
      "text/plain": [
       "                    WALKING  WALKING_UPSTAIRS  WALKING_DOWNSTAIRS  SITTING  \\\n",
       "WALKING                 495                 1                   0        0   \n",
       "WALKING_UPSTAIRS         17               450                   1        1   \n",
       "WALKING_DOWNSTAIRS        4                 3                 411        0   \n",
       "SITTING                   0                 4                   0      439   \n",
       "STANDING                  0                 0                   0       12   \n",
       "LAYING                    0                 0                   0        0   \n",
       "STAND_TO_SIT              0                 0                   0        1   \n",
       "SIT_TO_STAND              0                 0                   0        0   \n",
       "SIT_TO_LIE                0                 0                   0        0   \n",
       "LIE_TO_SIT                0                 0                   0        0   \n",
       "STAND_TO_LIE              2                 1                   0        2   \n",
       "LIE_TO_STAND              0                 0                   0        0   \n",
       "all                     518               459                 412      455   \n",
       "\n",
       "                    STANDING  LAYING  STAND_TO_SIT  SIT_TO_STAND  SIT_TO_LIE  \\\n",
       "WALKING                    0       0             0             0           0   \n",
       "WALKING_UPSTAIRS           0       0             1             0           0   \n",
       "WALKING_DOWNSTAIRS         2       0             0             0           0   \n",
       "SITTING                   62       2             1             0           0   \n",
       "STANDING                 543       0             1             0           0   \n",
       "LAYING                     8     537             0             0           0   \n",
       "STAND_TO_SIT               2       0            19             0           1   \n",
       "SIT_TO_STAND               0       0             0            10           0   \n",
       "SIT_TO_LIE                 2       1             2             0          21   \n",
       "LIE_TO_SIT                 0       0             0             0           0   \n",
       "STAND_TO_LIE               0       1             0             0          10   \n",
       "LIE_TO_STAND               0       0             0             0           0   \n",
       "all                      619     541            24            10          32   \n",
       "\n",
       "                    LIE_TO_SIT  STAND_TO_LIE  LIE_TO_STAND   all  \n",
       "WALKING                      0             0             0   496  \n",
       "WALKING_UPSTAIRS             0             1             0   471  \n",
       "WALKING_DOWNSTAIRS           0             0             0   420  \n",
       "SITTING                      0             0             0   508  \n",
       "STANDING                     0             0             0   556  \n",
       "LAYING                       0             0             0   545  \n",
       "STAND_TO_SIT                 0             0             0    23  \n",
       "SIT_TO_STAND                 0             0             0    10  \n",
       "SIT_TO_LIE                   0             6             0    32  \n",
       "LIE_TO_SIT                  18             0             7    25  \n",
       "STAND_TO_LIE                 1            31             1    49  \n",
       "LIE_TO_STAND                 6             2            19    27  \n",
       "all                         25            40            27  3162  "
      ]
     },
     "execution_count": 51,
     "metadata": {},
     "output_type": "execute_result"
    }
   ],
   "source": [
    "# y_test is row, y_predicted is column\n",
    "tab = pd.crosstab(y_test, y_predicted, margins=True)\n",
    "\n",
    "# The following are fixed from Typos\n",
    "\n",
    "tab.index = ['WALKING', 'WALKING_UPSTAIRS',\n",
    "            'WALKING_DOWNSTAIRS', 'SITTING', 'STANDING', 'LAYING', 'STAND_TO_SIT', 'SIT_TO_STAND', \n",
    "             'SIT_TO_LIE', 'LIE_TO_SIT', 'STAND_TO_LIE', 'LIE_TO_STAND'  ,'all']\n",
    "\n",
    "tab.columns = ['WALKING', 'WALKING_UPSTAIRS',\n",
    "            'WALKING_DOWNSTAIRS', 'SITTING', 'STANDING', 'LAYING', 'STAND_TO_SIT', 'SIT_TO_STAND', \n",
    "             'SIT_TO_LIE', 'LIE_TO_SIT', 'STAND_TO_LIE', 'LIE_TO_STAND'  ,'all']\n",
    "tab\n",
    "\n"
   ]
  },
  {
   "cell_type": "markdown",
   "metadata": {},
   "source": [
    "As you can see, the classification problem is solved quite well."
   ]
  },
  {
   "cell_type": "markdown",
   "metadata": {},
   "source": [
    "** Question 8: ** <br>\n",
    "Does SVM confuse the classes inside the activity groups we identified earlier (in the question 3)? We consider that it is confused, if the algorithm was wrong at least in one case. <br>\n",
    "\n",
    "**Answer options:**\n",
    "- yes\n",
    "- no\n"
   ]
  },
  {
   "cell_type": "code",
   "execution_count": 52,
   "metadata": {},
   "outputs": [
    {
     "name": "stdout",
     "output_type": "stream",
     "text": [
      "The answer is yes, it does confuse classes inside activity groups\n",
      "For example, one instance of walking is identified as walking upstairs\n"
     ]
    }
   ],
   "source": [
    "print(\"The answer is yes, it does confuse classes inside activity groups\")\n",
    "#print(\"As can be seen from the above table, there are cases where the algorithm was wrong\")\n",
    "print(\"For example, one instance of walking is identified as walking upstairs\")"
   ]
  },
  {
   "cell_type": "markdown",
   "metadata": {},
   "source": [
    "Finally, do the same thing as in Question 7, but add the PCA.\n",
    "\n",
    "- Use the samples `X_train_scaled` and` X_test_scaled\n",
    "- Teach the same PCA as before, on a scaled training sample, apply the conversion to a test\n",
    "- Choose the hyperparameter `C` with cross-validation on the training sample with PCA-transformation. You will notice how much faster it works than before.\n",
    "\n",
    "\n",
    "** Question 9: ** <br>\n",
    "What is the difference between the best quality (the proportion of correct answers) for cross-validation in the case of all 561 initial characteristics and in the second case, when the principal component method was applied? Round to the nearest percent. <br>\n",
    "\n",
    "** Options: **\n",
    "- The quality is the same\n",
    "- 2%\n",
    "- 4%\n",
    "- 10%\n",
    "- 20%"
   ]
  },
  {
   "cell_type": "code",
   "execution_count": 53,
   "metadata": {},
   "outputs": [
    {
     "name": "stdout",
     "output_type": "stream",
     "text": [
      "Fitting 3 folds for each of 5 candidates, totalling 15 fits\n"
     ]
    },
    {
     "name": "stderr",
     "output_type": "stream",
     "text": [
      "[Parallel(n_jobs=1)]: Using backend SequentialBackend with 1 concurrent workers.\n",
      "C:\\Users\\Bita\\Anaconda3\\lib\\site-packages\\sklearn\\svm\\base.py:929: ConvergenceWarning: Liblinear failed to converge, increase the number of iterations.\n",
      "  \"the number of iterations.\", ConvergenceWarning)\n",
      "C:\\Users\\Bita\\Anaconda3\\lib\\site-packages\\sklearn\\svm\\base.py:929: ConvergenceWarning: Liblinear failed to converge, increase the number of iterations.\n",
      "  \"the number of iterations.\", ConvergenceWarning)\n",
      "C:\\Users\\Bita\\Anaconda3\\lib\\site-packages\\sklearn\\svm\\base.py:929: ConvergenceWarning: Liblinear failed to converge, increase the number of iterations.\n",
      "  \"the number of iterations.\", ConvergenceWarning)\n",
      "C:\\Users\\Bita\\Anaconda3\\lib\\site-packages\\sklearn\\svm\\base.py:929: ConvergenceWarning: Liblinear failed to converge, increase the number of iterations.\n",
      "  \"the number of iterations.\", ConvergenceWarning)\n",
      "C:\\Users\\Bita\\Anaconda3\\lib\\site-packages\\sklearn\\svm\\base.py:929: ConvergenceWarning: Liblinear failed to converge, increase the number of iterations.\n",
      "  \"the number of iterations.\", ConvergenceWarning)\n",
      "C:\\Users\\Bita\\Anaconda3\\lib\\site-packages\\sklearn\\svm\\base.py:929: ConvergenceWarning: Liblinear failed to converge, increase the number of iterations.\n",
      "  \"the number of iterations.\", ConvergenceWarning)\n",
      "C:\\Users\\Bita\\Anaconda3\\lib\\site-packages\\sklearn\\svm\\base.py:929: ConvergenceWarning: Liblinear failed to converge, increase the number of iterations.\n",
      "  \"the number of iterations.\", ConvergenceWarning)\n",
      "C:\\Users\\Bita\\Anaconda3\\lib\\site-packages\\sklearn\\svm\\base.py:929: ConvergenceWarning: Liblinear failed to converge, increase the number of iterations.\n",
      "  \"the number of iterations.\", ConvergenceWarning)\n",
      "C:\\Users\\Bita\\Anaconda3\\lib\\site-packages\\sklearn\\svm\\base.py:929: ConvergenceWarning: Liblinear failed to converge, increase the number of iterations.\n",
      "  \"the number of iterations.\", ConvergenceWarning)\n",
      "C:\\Users\\Bita\\Anaconda3\\lib\\site-packages\\sklearn\\svm\\base.py:929: ConvergenceWarning: Liblinear failed to converge, increase the number of iterations.\n",
      "  \"the number of iterations.\", ConvergenceWarning)\n",
      "C:\\Users\\Bita\\Anaconda3\\lib\\site-packages\\sklearn\\svm\\base.py:929: ConvergenceWarning: Liblinear failed to converge, increase the number of iterations.\n",
      "  \"the number of iterations.\", ConvergenceWarning)\n",
      "[Parallel(n_jobs=1)]: Done  15 out of  15 | elapsed:   25.6s finished\n",
      "C:\\Users\\Bita\\Anaconda3\\lib\\site-packages\\sklearn\\svm\\base.py:929: ConvergenceWarning: Liblinear failed to converge, increase the number of iterations.\n",
      "  \"the number of iterations.\", ConvergenceWarning)\n"
     ]
    },
    {
     "data": {
      "text/plain": [
       "GridSearchCV(cv=3, error_score='raise-deprecating',\n",
       "             estimator=LinearSVC(C=1.0, class_weight=None, dual=True,\n",
       "                                 fit_intercept=True, intercept_scaling=1,\n",
       "                                 loss='squared_hinge', max_iter=1000,\n",
       "                                 multi_class='ovr', penalty='l2',\n",
       "                                 random_state=17, tol=0.0001, verbose=0),\n",
       "             iid='warn', n_jobs=None,\n",
       "             param_grid={'C': [0.001, 0.01, 0.1, 1, 10]},\n",
       "             pre_dispatch='2*n_jobs', refit=True, return_train_score=False,\n",
       "             scoring=None, verbose=1)"
      ]
     },
     "execution_count": 53,
     "metadata": {},
     "output_type": "execute_result"
    },
    {
     "data": {
      "text/plain": [
       "({'C': 0.1}, 0.8843826445216943)"
      ]
     },
     "execution_count": 53,
     "metadata": {},
     "output_type": "execute_result"
    },
    {
     "name": "stdout",
     "output_type": "stream",
     "text": [
      "The best value of C is  0.1\n"
     ]
    }
   ],
   "source": [
    "# First scaling\n",
    "scaler = StandardScaler()\n",
    "X_train_scaled = scaler.fit_transform(X_train)\n",
    "X_test_scaled = scaler.transform(X_test)\n",
    "\n",
    "\n",
    "# Applying PCA\n",
    "pca = PCA(n_components=0.9, random_state=RANDOM_STATE)\n",
    "X_train_P = pca.fit_transform(X_train_scaled)\n",
    "X_test_P = pca.transform(X_test_scaled)\n",
    "\n",
    "\n",
    "# preparing for Grid Search\n",
    "svc = LinearSVC(random_state=RANDOM_STATE)\n",
    "svc_params = {'C': [0.001, 0.01, 0.1, 1, 10]}\n",
    "\n",
    "\n",
    "# performing Grid Search - Support Vector Machines\n",
    "pca_best_svc = GridSearchCV(svc, svc_params, cv=3, verbose=1)\n",
    "\n",
    "# Fitting the training data\n",
    "pca_best_svc.fit(X_train_P, y_train)\n",
    "\n",
    "# Get the best parameters\n",
    "pca_best_svc.best_params_, pca_best_svc.best_score_\n",
    "print(\"The best value of C is \", pca_best_svc.best_params_['C'])\n"
   ]
  },
  {
   "cell_type": "code",
   "execution_count": 54,
   "metadata": {
    "jupyter": {
     "outputs_hidden": true
    }
   },
   "outputs": [
    {
     "name": "stdout",
     "output_type": "stream",
     "text": [
      "The best score returned without PCA is 0.9284150894811382\n",
      "The best score by using PCA is 0.8843826445216943\n",
      "The difference is 4%\n",
      "\n"
     ]
    }
   ],
   "source": [
    "print(\"The best score returned without PCA is\", best_svc.best_score_)\n",
    "print(\"The best score by using PCA is\", pca_best_svc.best_score_)\n",
    "\n",
    "print(\"The difference is {:.0%}\".format(best_svc.best_score_ - pca_best_svc.best_score_))\n",
    "print(\"\")"
   ]
  },
  {
   "cell_type": "markdown",
   "metadata": {},
   "source": [
    "** Question 10: ** <br>\n",
    "Select all the correct statements:\n",
    "\n",
    "** Answer options: **\n",
    "- Principal component analysis in this case allowed to reduce the model training time, while the quality (the proportion of correct responses on cross-validation) suffered greatly, by more than 10%\n",
    "- PCA can be used to visualize data, but there are better methods for this task, for example, tSNE. But PCA has less computational complexity\n",
    "- PCA builds linear combinations of initial characteristics that are poorly interpreted by humans\n",
    "- SVM works better than kMeans, since it clearly reduces the algorithm to the optimization problem"
   ]
  },
  {
   "cell_type": "code",
   "execution_count": 55,
   "metadata": {},
   "outputs": [
    {
     "name": "stdout",
     "output_type": "stream",
     "text": [
      "Option 1 is incorrect due to the fact that the quality loss was 4% and not 10% - However, PCA helped with training time\n",
      "\n",
      "Option 4 seems incorrect, as KMeans is typically used for unsupervised learning and SVM for supervised learning, and perhaps they should not be compared\n",
      "However, there seem to be variations of SVM like Support Vector Clustering https://dl.acm.org/doi/10.5555/944790.944807\n",
      "Or Supervised KMeans like http://www.cs.cornell.edu/~tomf/publications/supervised_kmeans-08.pdf\n",
      "So it would be interesting to learn about them and compare the differences\n",
      "\n",
      "Option 2 seems correct as mentioned in the notes: with tSNE, the picture looks better since PCA has a linear constraint while t-SNE does not.\n",
      "However, even with such a small dataset, the t-SNE algorithm takes significantly more time to complete than PCA \n",
      "\n",
      "Option 3 seems correct, as sometimes the chosen features along with their percentages may not be clear.\n"
     ]
    }
   ],
   "source": [
    "# The answer\n",
    "print(\"Option 1 is incorrect due to the fact that the quality loss was 4% and not 10% - However, PCA helped with training time\")\n",
    "print(\"\")\n",
    "print(\"Option 4 seems incorrect, as KMeans is typically used for unsupervised learning and SVM for supervised learning, and perhaps they should not be compared\")\n",
    "print(\"However, there seem to be variations of SVM like Support Vector Clustering https://dl.acm.org/doi/10.5555/944790.944807\")\n",
    "print(\"Or Supervised KMeans like http://www.cs.cornell.edu/~tomf/publications/supervised_kmeans-08.pdf\")\n",
    "print(\"So it would be interesting to learn about them and compare the differences\")\n",
    "print(\"\")\n",
    "print(\"Option 2 seems correct as mentioned in the notes: with tSNE, the picture looks better since PCA has a linear constraint while t-SNE does not.\")\n",
    "print(\"However, even with such a small dataset, the t-SNE algorithm takes significantly more time to complete than PCA \")\n",
    "print(\"\")\n",
    "print(\"Option 3 seems correct, as sometimes the chosen features along with their percentages may not be clear.\")\n",
    "      "
   ]
  },
  {
   "cell_type": "code",
   "execution_count": null,
   "metadata": {},
   "outputs": [],
   "source": []
  }
 ],
 "metadata": {
  "anaconda-cloud": {},
  "kernelspec": {
   "display_name": "Python 3",
   "language": "python",
   "name": "python3"
  },
  "language_info": {
   "codemirror_mode": {
    "name": "ipython",
    "version": 3
   },
   "file_extension": ".py",
   "mimetype": "text/x-python",
   "name": "python",
   "nbconvert_exporter": "python",
   "pygments_lexer": "ipython3",
   "version": "3.7.4"
  }
 },
 "nbformat": 4,
 "nbformat_minor": 4
}
